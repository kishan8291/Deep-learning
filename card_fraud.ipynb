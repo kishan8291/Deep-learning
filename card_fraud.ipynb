{
  "cells": [
    {
      "cell_type": "code",
      "execution_count": null,
      "metadata": {
        "colab": {
          "background_save": true,
          "base_uri": "https://localhost:8080/"
        },
        "id": "nulJHomXAoKd",
        "outputId": "1a66cb6f-b6c6-49fa-fb8d-4921d1f3a2e5"
      },
      "outputs": [
        {
          "name": "stderr",
          "output_type": "stream",
          "text": [
            "\u001b[32m\u001b[1m    Updating\u001b[22m\u001b[39m registry at `~/.julia/registries/General.toml`\n",
            "\u001b[32m\u001b[1m   Resolving\u001b[22m\u001b[39m package versions...\n",
            "\u001b[32m\u001b[1m   Installed\u001b[22m\u001b[39m ZygoteRules ───────── v0.2.7\n",
            "\u001b[32m\u001b[1m   Installed\u001b[22m\u001b[39m RealDot ───────────── v0.1.0\n",
            "\u001b[32m\u001b[1m   Installed\u001b[22m\u001b[39m PrettyPrint ───────── v0.2.0\n",
            "\u001b[32m\u001b[1m   Installed\u001b[22m\u001b[39m ContextVariablesX ─── v0.1.3\n",
            "\u001b[32m\u001b[1m   Installed\u001b[22m\u001b[39m ShowCases ─────────── v0.1.0\n",
            "\u001b[32m\u001b[1m   Installed\u001b[22m\u001b[39m Accessors ─────────── v0.1.42\n",
            "\u001b[32m\u001b[1m   Installed\u001b[22m\u001b[39m MLUtils ───────────── v0.4.8\n",
            "\u001b[32m\u001b[1m   Installed\u001b[22m\u001b[39m InitialValues ─────── v0.3.1\n",
            "\u001b[32m\u001b[1m   Installed\u001b[22m\u001b[39m IRTools ───────────── v0.4.15\n",
            "\u001b[32m\u001b[1m   Installed\u001b[22m\u001b[39m FLoopsBase ────────── v0.1.1\n",
            "\u001b[32m\u001b[1m   Installed\u001b[22m\u001b[39m MLCore ────────────── v1.0.0\n",
            "\u001b[32m\u001b[1m   Installed\u001b[22m\u001b[39m MicroCollections ──── v0.2.0\n",
            "\u001b[32m\u001b[1m   Installed\u001b[22m\u001b[39m OneHotArrays ──────── v0.2.10\n",
            "\u001b[32m\u001b[1m   Installed\u001b[22m\u001b[39m Zygote ────────────── v0.7.10\n",
            "\u001b[32m\u001b[1m   Installed\u001b[22m\u001b[39m MLStyle ───────────── v0.4.17\n",
            "\u001b[32m\u001b[1m   Installed\u001b[22m\u001b[39m ProgressLogging ───── v0.1.5\n",
            "\u001b[32m\u001b[1m   Installed\u001b[22m\u001b[39m DefineSingletons ──── v0.1.2\n",
            "\u001b[32m\u001b[1m   Installed\u001b[22m\u001b[39m NameResolution ────── v0.1.5\n",
            "\u001b[32m\u001b[1m   Installed\u001b[22m\u001b[39m ChainRules ────────── v1.72.5\n",
            "\u001b[32m\u001b[1m   Installed\u001b[22m\u001b[39m BangBang ──────────── v0.4.4\n",
            "\u001b[32m\u001b[1m   Installed\u001b[22m\u001b[39m CompositionsBase ──── v0.1.2\n",
            "\u001b[32m\u001b[1m   Installed\u001b[22m\u001b[39m FLoops ────────────── v0.2.2\n",
            "\u001b[32m\u001b[1m   Installed\u001b[22m\u001b[39m Flux ──────────────── v0.16.4\n",
            "\u001b[32m\u001b[1m   Installed\u001b[22m\u001b[39m SparseInverseSubset ─ v0.1.2\n",
            "\u001b[32m\u001b[1m   Installed\u001b[22m\u001b[39m Transducers ───────── v0.4.84\n",
            "\u001b[32m\u001b[1m   Installed\u001b[22m\u001b[39m SplittablesBase ───── v0.1.15\n",
            "\u001b[32m\u001b[1m   Installed\u001b[22m\u001b[39m JuliaVariables ────── v0.2.4\n",
            "\u001b[32m\u001b[1m   Installed\u001b[22m\u001b[39m Baselet ───────────── v0.1.1\n",
            "\u001b[32m\u001b[1m    Updating\u001b[22m\u001b[39m `~/.julia/environments/v1.10/Project.toml`\n",
            "  \u001b[90m[587475ba] \u001b[39m\u001b[92m+ Flux v0.16.4\u001b[39m\n",
            "\u001b[32m\u001b[1m    Updating\u001b[22m\u001b[39m `~/.julia/environments/v1.10/Manifest.toml`\n",
            "  \u001b[90m[7d9f7c33] \u001b[39m\u001b[92m+ Accessors v0.1.42\u001b[39m\n",
            "  \u001b[90m[198e06fe] \u001b[39m\u001b[92m+ BangBang v0.4.4\u001b[39m\n",
            "  \u001b[90m[9718e550] \u001b[39m\u001b[92m+ Baselet v0.1.1\u001b[39m\n",
            "  \u001b[90m[082447d4] \u001b[39m\u001b[92m+ ChainRules v1.72.5\u001b[39m\n",
            "  \u001b[90m[a33af91c] \u001b[39m\u001b[92m+ CompositionsBase v0.1.2\u001b[39m\n",
            "  \u001b[90m[6add18c4] \u001b[39m\u001b[92m+ ContextVariablesX v0.1.3\u001b[39m\n",
            "  \u001b[90m[244e2a9f] \u001b[39m\u001b[92m+ DefineSingletons v0.1.2\u001b[39m\n",
            "  \u001b[90m[cc61a311] \u001b[39m\u001b[92m+ FLoops v0.2.2\u001b[39m\n",
            "  \u001b[90m[b9860ae5] \u001b[39m\u001b[92m+ FLoopsBase v0.1.1\u001b[39m\n",
            "  \u001b[90m[587475ba] \u001b[39m\u001b[92m+ Flux v0.16.4\u001b[39m\n",
            "  \u001b[90m[7869d1d1] \u001b[39m\u001b[92m+ IRTools v0.4.15\u001b[39m\n",
            "  \u001b[90m[22cec73e] \u001b[39m\u001b[92m+ InitialValues v0.3.1\u001b[39m\n",
            "  \u001b[90m[b14d175d] \u001b[39m\u001b[92m+ JuliaVariables v0.2.4\u001b[39m\n",
            "  \u001b[90m[c2834f40] \u001b[39m\u001b[92m+ MLCore v1.0.0\u001b[39m\n",
            "  \u001b[90m[d8e11817] \u001b[39m\u001b[92m+ MLStyle v0.4.17\u001b[39m\n",
            "  \u001b[90m[f1d291b0] \u001b[39m\u001b[92m+ MLUtils v0.4.8\u001b[39m\n",
            "  \u001b[90m[128add7d] \u001b[39m\u001b[92m+ MicroCollections v0.2.0\u001b[39m\n",
            "  \u001b[90m[71a1bf82] \u001b[39m\u001b[92m+ NameResolution v0.1.5\u001b[39m\n",
            "  \u001b[90m[0b1bfda6] \u001b[39m\u001b[92m+ OneHotArrays v0.2.10\u001b[39m\n",
            "  \u001b[90m[8162dcfd] \u001b[39m\u001b[92m+ PrettyPrint v0.2.0\u001b[39m\n",
            "  \u001b[90m[33c8b6b6] \u001b[39m\u001b[92m+ ProgressLogging v0.1.5\u001b[39m\n",
            "  \u001b[90m[c1ae055f] \u001b[39m\u001b[92m+ RealDot v0.1.0\u001b[39m\n",
            "  \u001b[90m[605ecd9f] \u001b[39m\u001b[92m+ ShowCases v0.1.0\u001b[39m\n",
            "  \u001b[90m[dc90abb0] \u001b[39m\u001b[92m+ SparseInverseSubset v0.1.2\u001b[39m\n",
            "  \u001b[90m[171d559e] \u001b[39m\u001b[92m+ SplittablesBase v0.1.15\u001b[39m\n",
            "  \u001b[90m[28d57a85] \u001b[39m\u001b[92m+ Transducers v0.4.84\u001b[39m\n",
            "  \u001b[90m[e88e6eb3] \u001b[39m\u001b[92m+ Zygote v0.7.10\u001b[39m\n",
            "  \u001b[90m[700de1a5] \u001b[39m\u001b[92m+ ZygoteRules v0.2.7\u001b[39m\n",
            "\u001b[32m\u001b[1mPrecompiling\u001b[22m\u001b[39m packages...\n",
            "   2932.4 ms\u001b[32m  ✓ \u001b[39m\u001b[90mInitialValues\u001b[39m\n",
            "   2278.6 ms\u001b[32m  ✓ \u001b[39m\u001b[90mShowCases\u001b[39m\n",
            "   2497.6 ms\u001b[32m  ✓ \u001b[39m\u001b[90mPrettyPrint\u001b[39m\n",
            "    591.4 ms\u001b[32m  ✓ \u001b[39m\u001b[90mRealDot\u001b[39m\n",
            "   1005.3 ms\u001b[32m  ✓ \u001b[39m\u001b[90mCompositionsBase\u001b[39m\n",
            "    693.9 ms\u001b[32m  ✓ \u001b[39m\u001b[90mDefineSingletons\u001b[39m\n",
            "   1312.0 ms\u001b[32m  ✓ \u001b[39m\u001b[90mContextVariablesX\u001b[39m\n",
            "   1609.4 ms\u001b[32m  ✓ \u001b[39m\u001b[90mProgressLogging\u001b[39m\n",
            "   4927.4 ms\u001b[32m  ✓ \u001b[39m\u001b[90mIRTools\u001b[39m\n",
            "   2212.5 ms\u001b[32m  ✓ \u001b[39m\u001b[90mBaselet\u001b[39m\n",
            "   2059.1 ms\u001b[32m  ✓ \u001b[39m\u001b[90mZygoteRules\u001b[39m\n",
            "   1456.7 ms\u001b[32m  ✓ \u001b[39m\u001b[90mSparseInverseSubset\u001b[39m\n",
            "   2090.0 ms\u001b[32m  ✓ \u001b[39m\u001b[90mMLCore\u001b[39m\n",
            "   1709.7 ms\u001b[32m  ✓ \u001b[39m\u001b[90mSplittablesBase\u001b[39m\n",
            "   2941.8 ms\u001b[32m  ✓ \u001b[39m\u001b[90mOneHotArrays\u001b[39m\n",
            "    797.6 ms\u001b[32m  ✓ \u001b[39m\u001b[90mNameResolution\u001b[39m\n",
            "    921.4 ms\u001b[32m  ✓ \u001b[39m\u001b[90mCompositionsBase → CompositionsBaseInverseFunctionsExt\u001b[39m\n",
            "   1218.6 ms\u001b[32m  ✓ \u001b[39m\u001b[90mFLoopsBase\u001b[39m\n",
            "  13051.4 ms\u001b[32m  ✓ \u001b[39m\u001b[90mMLDataDevices → MLDataDevicesCUDAExt\u001b[39m\n",
            "   2619.6 ms\u001b[32m  ✓ \u001b[39m\u001b[90mMLDataDevices → MLDataDevicesOneHotArraysExt\u001b[39m\n",
            "  13100.1 ms\u001b[32m  ✓ \u001b[39m\u001b[90mChainRules\u001b[39m\n",
            "   5670.2 ms\u001b[32m  ✓ \u001b[39m\u001b[90mAccessors\u001b[39m\n",
            "  59459.9 ms\u001b[32m  ✓ \u001b[39m\u001b[90mMLStyle\u001b[39m\n",
            "   1989.1 ms\u001b[32m  ✓ \u001b[39m\u001b[90mArrayInterface → ArrayInterfaceChainRulesExt\u001b[39m\n",
            "   2153.2 ms\u001b[32m  ✓ \u001b[39m\u001b[90mMLDataDevices → MLDataDevicesChainRulesExt\u001b[39m\n",
            "  40959.8 ms\u001b[32m  ✓ \u001b[39mReactant → ReactantOneHotArraysExt\n",
            "   1620.9 ms\u001b[32m  ✓ \u001b[39m\u001b[90mAccessors → LinearAlgebraExt\u001b[39m\n",
            "   1398.7 ms\u001b[32m  ✓ \u001b[39m\u001b[90mAccessors → StructArraysExt\u001b[39m\n",
            "   1173.5 ms\u001b[32m  ✓ \u001b[39m\u001b[90mAccessors → TestExt\u001b[39m\n",
            "   1291.0 ms\u001b[32m  ✓ \u001b[39m\u001b[90mAccessors → IntervalSetsExt\u001b[39m\n",
            "   5580.6 ms\u001b[32m  ✓ \u001b[39m\u001b[90mJuliaVariables\u001b[39m\n",
            "   1653.7 ms\u001b[32m  ✓ \u001b[39m\u001b[90mAccessors → UnitfulExt\u001b[39m\n",
            "   1677.6 ms\u001b[32m  ✓ \u001b[39m\u001b[90mAccessors → StaticArraysExt\u001b[39m\n",
            "   1645.6 ms\u001b[32m  ✓ \u001b[39m\u001b[90mBangBang\u001b[39m\n",
            "   1108.4 ms\u001b[32m  ✓ \u001b[39m\u001b[90mBangBang → BangBangChainRulesCoreExt\u001b[39m\n",
            "   1554.7 ms\u001b[32m  ✓ \u001b[39m\u001b[90mBangBang → BangBangStaticArraysExt\u001b[39m\n",
            "   1295.0 ms\u001b[32m  ✓ \u001b[39m\u001b[90mBangBang → BangBangTablesExt\u001b[39m\n",
            "   1388.3 ms\u001b[32m  ✓ \u001b[39m\u001b[90mMicroCollections\u001b[39m\n",
            "   1802.1 ms\u001b[32m  ✓ \u001b[39m\u001b[90mBangBang → BangBangStructArraysExt\u001b[39m\n",
            "   4830.5 ms\u001b[32m  ✓ \u001b[39m\u001b[90mBangBang → BangBangDataFramesExt\u001b[39m\n",
            "   4496.3 ms\u001b[32m  ✓ \u001b[39m\u001b[90mTransducers\u001b[39m\n",
            "   1492.9 ms\u001b[32m  ✓ \u001b[39m\u001b[90mTransducers → TransducersAdaptExt\u001b[39m\n",
            "   3989.0 ms\u001b[32m  ✓ \u001b[39m\u001b[90mTransducers → TransducersDataFramesExt\u001b[39m\n",
            "   6279.9 ms\u001b[32m  ✓ \u001b[39m\u001b[90mFLoops\u001b[39m\n",
            "   9301.5 ms\u001b[32m  ✓ \u001b[39m\u001b[90mMLUtils\u001b[39m\n",
            "   3487.1 ms\u001b[32m  ✓ \u001b[39m\u001b[90mMLDataDevices → MLDataDevicesMLUtilsExt\u001b[39m\n",
            "   3220.6 ms\u001b[32m  ✓ \u001b[39mLux → LuxMLUtilsExt\n",
            "  81598.4 ms\u001b[32m  ✓ \u001b[39m\u001b[90mZygote\u001b[39m\n",
            "   2300.8 ms\u001b[32m  ✓ \u001b[39m\u001b[90mMLDataDevices → MLDataDevicesZygoteExt\u001b[39m\n",
            "   2981.8 ms\u001b[32m  ✓ \u001b[39m\u001b[90mZygote → ZygoteColorsExt\u001b[39m\n",
            "   4092.6 ms\u001b[32m  ✓ \u001b[39mLux → LuxZygoteExt\n",
            "   7992.2 ms\u001b[32m  ✓ \u001b[39mFlux\n",
            "   1324.7 ms\u001b[32m  ✓ \u001b[39mFlux → FluxCUDAExt\n",
            "   5559.8 ms\u001b[32m  ✓ \u001b[39mLux → LuxFluxExt\n",
            "  18571.0 ms\u001b[32m  ✓ \u001b[39mFlux → FluxEnzymeExt\n",
            "  55 dependencies successfully precompiled in 152 seconds. 458 already precompiled.\n"
          ]
        },
        {
          "ename": "LoadError",
          "evalue": "ArgumentError: Package StatsBase not found in current path.\n- Run `import Pkg; Pkg.add(\"StatsBase\")` to install the StatsBase package.",
          "output_type": "error",
          "traceback": [
            "ArgumentError: Package StatsBase not found in current path.\n- Run `import Pkg; Pkg.add(\"StatsBase\")` to install the StatsBase package.",
            "",
            "Stacktrace:",
            " [1] \u001b[0m\u001b[1mmacro expansion\u001b[22m",
            "\u001b[90m   @\u001b[39m \u001b[90m./\u001b[39m\u001b[90m\u001b[4mloading.jl:1842\u001b[24m\u001b[39m\u001b[90m [inlined]\u001b[39m",
            " [2] \u001b[0m\u001b[1mmacro expansion\u001b[22m",
            "\u001b[90m   @\u001b[39m \u001b[90m./\u001b[39m\u001b[90m\u001b[4mlock.jl:267\u001b[24m\u001b[39m\u001b[90m [inlined]\u001b[39m",
            " [3] \u001b[0m\u001b[1m__require\u001b[22m\u001b[0m\u001b[1m(\u001b[22m\u001b[90minto\u001b[39m::\u001b[0mModule, \u001b[90mmod\u001b[39m::\u001b[0mSymbol\u001b[0m\u001b[1m)\u001b[22m",
            "\u001b[90m   @\u001b[39m \u001b[90mBase\u001b[39m \u001b[90m./\u001b[39m\u001b[90m\u001b[4mloading.jl:1823\u001b[24m\u001b[39m",
            " [4] \u001b[0m\u001b[1m#invoke_in_world#3\u001b[22m",
            "\u001b[90m   @\u001b[39m \u001b[90m./\u001b[39m\u001b[90m\u001b[4messentials.jl:926\u001b[24m\u001b[39m\u001b[90m [inlined]\u001b[39m",
            " [5] \u001b[0m\u001b[1minvoke_in_world\u001b[22m",
            "\u001b[90m   @\u001b[39m \u001b[90m./\u001b[39m\u001b[90m\u001b[4messentials.jl:923\u001b[24m\u001b[39m\u001b[90m [inlined]\u001b[39m",
            " [6] \u001b[0m\u001b[1mrequire\u001b[22m\u001b[0m\u001b[1m(\u001b[22m\u001b[90minto\u001b[39m::\u001b[0mModule, \u001b[90mmod\u001b[39m::\u001b[0mSymbol\u001b[0m\u001b[1m)\u001b[22m",
            "\u001b[90m   @\u001b[39m \u001b[90mBase\u001b[39m \u001b[90m./\u001b[39m\u001b[90m\u001b[4mloading.jl:1816\u001b[24m\u001b[39m"
          ]
        }
      ],
      "source": [
        "import Pkg\n",
        "Pkg.add(\"Flux\")\n",
        "using CSV\n",
        "using DataFrames\n",
        "using Statistics\n",
        "using Random\n",
        "using Flux\n",
        "using Flux: onehotbatch, onecold, logitcrossentropy\n",
        "using StatsBase\n",
        "using Plots\n",
        "using LinearAlgebra"
      ]
    },
    {
      "cell_type": "code",
      "execution_count": 2,
      "metadata": {
        "id": "1221LyyDBnJw",
        "colab": {
          "base_uri": "https://localhost:8080/"
        },
        "outputId": "1465abfd-404a-43ad-832b-0051e06b4721"
      },
      "outputs": [
        {
          "output_type": "stream",
          "name": "stderr",
          "text": [
            "\u001b[32m\u001b[1m    Updating\u001b[22m\u001b[39m registry at `~/.julia/registries/General.toml`\n",
            "\u001b[32m\u001b[1m   Resolving\u001b[22m\u001b[39m package versions...\n",
            "\u001b[32m\u001b[1m   Installed\u001b[22m\u001b[39m ZygoteRules ───────── v0.2.7\n",
            "\u001b[32m\u001b[1m   Installed\u001b[22m\u001b[39m RealDot ───────────── v0.1.0\n",
            "\u001b[32m\u001b[1m   Installed\u001b[22m\u001b[39m PrettyPrint ───────── v0.2.0\n",
            "\u001b[32m\u001b[1m   Installed\u001b[22m\u001b[39m Accessors ─────────── v0.1.42\n",
            "\u001b[32m\u001b[1m   Installed\u001b[22m\u001b[39m ContextVariablesX ─── v0.1.3\n",
            "\u001b[32m\u001b[1m   Installed\u001b[22m\u001b[39m InitialValues ─────── v0.3.1\n",
            "\u001b[32m\u001b[1m   Installed\u001b[22m\u001b[39m ShowCases ─────────── v0.1.0\n",
            "\u001b[32m\u001b[1m   Installed\u001b[22m\u001b[39m MLUtils ───────────── v0.4.8\n",
            "\u001b[32m\u001b[1m   Installed\u001b[22m\u001b[39m DefineSingletons ──── v0.1.2\n",
            "\u001b[32m\u001b[1m   Installed\u001b[22m\u001b[39m IRTools ───────────── v0.4.15\n",
            "\u001b[32m\u001b[1m   Installed\u001b[22m\u001b[39m ProgressLogging ───── v0.1.5\n",
            "\u001b[32m\u001b[1m   Installed\u001b[22m\u001b[39m FLoopsBase ────────── v0.1.1\n",
            "\u001b[32m\u001b[1m   Installed\u001b[22m\u001b[39m MLCore ────────────── v1.0.0\n",
            "\u001b[32m\u001b[1m   Installed\u001b[22m\u001b[39m MicroCollections ──── v0.2.0\n",
            "\u001b[32m\u001b[1m   Installed\u001b[22m\u001b[39m OneHotArrays ──────── v0.2.10\n",
            "\u001b[32m\u001b[1m   Installed\u001b[22m\u001b[39m Zygote ────────────── v0.7.10\n",
            "\u001b[32m\u001b[1m   Installed\u001b[22m\u001b[39m CompositionsBase ──── v0.1.2\n",
            "\u001b[32m\u001b[1m   Installed\u001b[22m\u001b[39m JuliaVariables ────── v0.2.4\n",
            "\u001b[32m\u001b[1m   Installed\u001b[22m\u001b[39m NameResolution ────── v0.1.5\n",
            "\u001b[32m\u001b[1m   Installed\u001b[22m\u001b[39m BangBang ──────────── v0.4.4\n",
            "\u001b[32m\u001b[1m   Installed\u001b[22m\u001b[39m ChainRules ────────── v1.72.5\n",
            "\u001b[32m\u001b[1m   Installed\u001b[22m\u001b[39m FLoops ────────────── v0.2.2\n",
            "\u001b[32m\u001b[1m   Installed\u001b[22m\u001b[39m MLStyle ───────────── v0.4.17\n",
            "\u001b[32m\u001b[1m   Installed\u001b[22m\u001b[39m SparseInverseSubset ─ v0.1.2\n",
            "\u001b[32m\u001b[1m   Installed\u001b[22m\u001b[39m SplittablesBase ───── v0.1.15\n",
            "\u001b[32m\u001b[1m   Installed\u001b[22m\u001b[39m Baselet ───────────── v0.1.1\n",
            "\u001b[32m\u001b[1m   Installed\u001b[22m\u001b[39m Transducers ───────── v0.4.84\n",
            "\u001b[32m\u001b[1m   Installed\u001b[22m\u001b[39m Flux ──────────────── v0.16.4\n",
            "\u001b[32m\u001b[1m    Updating\u001b[22m\u001b[39m `~/.julia/environments/v1.10/Project.toml`\n",
            "  \u001b[90m[587475ba] \u001b[39m\u001b[92m+ Flux v0.16.4\u001b[39m\n",
            "\u001b[32m\u001b[1m    Updating\u001b[22m\u001b[39m `~/.julia/environments/v1.10/Manifest.toml`\n",
            "  \u001b[90m[7d9f7c33] \u001b[39m\u001b[92m+ Accessors v0.1.42\u001b[39m\n",
            "  \u001b[90m[198e06fe] \u001b[39m\u001b[92m+ BangBang v0.4.4\u001b[39m\n",
            "  \u001b[90m[9718e550] \u001b[39m\u001b[92m+ Baselet v0.1.1\u001b[39m\n",
            "  \u001b[90m[082447d4] \u001b[39m\u001b[92m+ ChainRules v1.72.5\u001b[39m\n",
            "  \u001b[90m[a33af91c] \u001b[39m\u001b[92m+ CompositionsBase v0.1.2\u001b[39m\n",
            "  \u001b[90m[6add18c4] \u001b[39m\u001b[92m+ ContextVariablesX v0.1.3\u001b[39m\n",
            "  \u001b[90m[244e2a9f] \u001b[39m\u001b[92m+ DefineSingletons v0.1.2\u001b[39m\n",
            "  \u001b[90m[cc61a311] \u001b[39m\u001b[92m+ FLoops v0.2.2\u001b[39m\n",
            "  \u001b[90m[b9860ae5] \u001b[39m\u001b[92m+ FLoopsBase v0.1.1\u001b[39m\n",
            "  \u001b[90m[587475ba] \u001b[39m\u001b[92m+ Flux v0.16.4\u001b[39m\n",
            "  \u001b[90m[7869d1d1] \u001b[39m\u001b[92m+ IRTools v0.4.15\u001b[39m\n",
            "  \u001b[90m[22cec73e] \u001b[39m\u001b[92m+ InitialValues v0.3.1\u001b[39m\n",
            "  \u001b[90m[b14d175d] \u001b[39m\u001b[92m+ JuliaVariables v0.2.4\u001b[39m\n",
            "  \u001b[90m[c2834f40] \u001b[39m\u001b[92m+ MLCore v1.0.0\u001b[39m\n",
            "  \u001b[90m[d8e11817] \u001b[39m\u001b[92m+ MLStyle v0.4.17\u001b[39m\n",
            "  \u001b[90m[f1d291b0] \u001b[39m\u001b[92m+ MLUtils v0.4.8\u001b[39m\n",
            "  \u001b[90m[128add7d] \u001b[39m\u001b[92m+ MicroCollections v0.2.0\u001b[39m\n",
            "  \u001b[90m[71a1bf82] \u001b[39m\u001b[92m+ NameResolution v0.1.5\u001b[39m\n",
            "  \u001b[90m[0b1bfda6] \u001b[39m\u001b[92m+ OneHotArrays v0.2.10\u001b[39m\n",
            "  \u001b[90m[8162dcfd] \u001b[39m\u001b[92m+ PrettyPrint v0.2.0\u001b[39m\n",
            "  \u001b[90m[33c8b6b6] \u001b[39m\u001b[92m+ ProgressLogging v0.1.5\u001b[39m\n",
            "  \u001b[90m[c1ae055f] \u001b[39m\u001b[92m+ RealDot v0.1.0\u001b[39m\n",
            "  \u001b[90m[605ecd9f] \u001b[39m\u001b[92m+ ShowCases v0.1.0\u001b[39m\n",
            "  \u001b[90m[dc90abb0] \u001b[39m\u001b[92m+ SparseInverseSubset v0.1.2\u001b[39m\n",
            "  \u001b[90m[171d559e] \u001b[39m\u001b[92m+ SplittablesBase v0.1.15\u001b[39m\n",
            "  \u001b[90m[28d57a85] \u001b[39m\u001b[92m+ Transducers v0.4.84\u001b[39m\n",
            "  \u001b[90m[e88e6eb3] \u001b[39m\u001b[92m+ Zygote v0.7.10\u001b[39m\n",
            "  \u001b[90m[700de1a5] \u001b[39m\u001b[92m+ ZygoteRules v0.2.7\u001b[39m\n",
            "\u001b[32m\u001b[1mPrecompiling\u001b[22m\u001b[39m packages...\n",
            "   3445.0 ms\u001b[32m  ✓ \u001b[39m\u001b[90mPrettyPrint\u001b[39m\n",
            "   4654.3 ms\u001b[32m  ✓ \u001b[39m\u001b[90mInitialValues\u001b[39m\n",
            "   3758.2 ms\u001b[32m  ✓ \u001b[39m\u001b[90mShowCases\u001b[39m\n",
            "    887.3 ms\u001b[32m  ✓ \u001b[39m\u001b[90mRealDot\u001b[39m\n",
            "   1137.9 ms\u001b[32m  ✓ \u001b[39m\u001b[90mCompositionsBase\u001b[39m\n",
            "    971.9 ms\u001b[32m  ✓ \u001b[39m\u001b[90mDefineSingletons\u001b[39m\n",
            "   1062.3 ms\u001b[32m  ✓ \u001b[39m\u001b[90mContextVariablesX\u001b[39m\n",
            "   1092.9 ms\u001b[32m  ✓ \u001b[39m\u001b[90mProgressLogging\u001b[39m\n",
            "   4479.3 ms\u001b[32m  ✓ \u001b[39m\u001b[90mIRTools\u001b[39m\n",
            "   3067.3 ms\u001b[32m  ✓ \u001b[39m\u001b[90mBaselet\u001b[39m\n",
            "   2270.0 ms\u001b[32m  ✓ \u001b[39m\u001b[90mZygoteRules\u001b[39m\n",
            "   1443.9 ms\u001b[32m  ✓ \u001b[39m\u001b[90mSparseInverseSubset\u001b[39m\n",
            "   2559.5 ms\u001b[32m  ✓ \u001b[39m\u001b[90mMLCore\u001b[39m\n",
            "   2514.5 ms\u001b[32m  ✓ \u001b[39m\u001b[90mSplittablesBase\u001b[39m\n",
            "   4388.5 ms\u001b[32m  ✓ \u001b[39m\u001b[90mOneHotArrays\u001b[39m\n",
            "    972.1 ms\u001b[32m  ✓ \u001b[39m\u001b[90mNameResolution\u001b[39m\n",
            "    871.6 ms\u001b[32m  ✓ \u001b[39m\u001b[90mCompositionsBase → CompositionsBaseInverseFunctionsExt\u001b[39m\n",
            "    998.7 ms\u001b[32m  ✓ \u001b[39m\u001b[90mFLoopsBase\u001b[39m\n",
            "  17579.4 ms\u001b[32m  ✓ \u001b[39m\u001b[90mMLDataDevices → MLDataDevicesCUDAExt\u001b[39m\n",
            "  14553.8 ms\u001b[32m  ✓ \u001b[39m\u001b[90mChainRules\u001b[39m\n",
            "   3367.4 ms\u001b[32m  ✓ \u001b[39m\u001b[90mMLDataDevices → MLDataDevicesOneHotArraysExt\u001b[39m\n",
            "   7402.0 ms\u001b[32m  ✓ \u001b[39m\u001b[90mAccessors\u001b[39m\n",
            "  76024.3 ms\u001b[32m  ✓ \u001b[39m\u001b[90mMLStyle\u001b[39m\n",
            "   1905.6 ms\u001b[32m  ✓ \u001b[39m\u001b[90mArrayInterface → ArrayInterfaceChainRulesExt\u001b[39m\n",
            "   1873.3 ms\u001b[32m  ✓ \u001b[39m\u001b[90mMLDataDevices → MLDataDevicesChainRulesExt\u001b[39m\n",
            "   1100.7 ms\u001b[32m  ✓ \u001b[39m\u001b[90mAccessors → LinearAlgebraExt\u001b[39m\n",
            "  55540.7 ms\u001b[32m  ✓ \u001b[39mReactant → ReactantOneHotArraysExt\n",
            "   2268.7 ms\u001b[32m  ✓ \u001b[39m\u001b[90mAccessors → StructArraysExt\u001b[39m\n",
            "   1519.8 ms\u001b[32m  ✓ \u001b[39m\u001b[90mAccessors → TestExt\u001b[39m\n",
            "   7842.8 ms\u001b[32m  ✓ \u001b[39m\u001b[90mJuliaVariables\u001b[39m\n",
            "   1528.4 ms\u001b[32m  ✓ \u001b[39m\u001b[90mAccessors → IntervalSetsExt\u001b[39m\n",
            "   2084.0 ms\u001b[32m  ✓ \u001b[39m\u001b[90mAccessors → UnitfulExt\u001b[39m\n",
            "   2125.9 ms\u001b[32m  ✓ \u001b[39m\u001b[90mAccessors → StaticArraysExt\u001b[39m\n",
            "   1874.1 ms\u001b[32m  ✓ \u001b[39m\u001b[90mBangBang\u001b[39m\n",
            "   1667.6 ms\u001b[32m  ✓ \u001b[39m\u001b[90mBangBang → BangBangChainRulesCoreExt\u001b[39m\n",
            "   1865.4 ms\u001b[32m  ✓ \u001b[39m\u001b[90mBangBang → BangBangStaticArraysExt\u001b[39m\n",
            "   1197.8 ms\u001b[32m  ✓ \u001b[39m\u001b[90mBangBang → BangBangTablesExt\u001b[39m\n",
            "   1680.7 ms\u001b[32m  ✓ \u001b[39m\u001b[90mMicroCollections\u001b[39m\n",
            "   1534.1 ms\u001b[32m  ✓ \u001b[39m\u001b[90mBangBang → BangBangStructArraysExt\u001b[39m\n",
            "   6478.7 ms\u001b[32m  ✓ \u001b[39m\u001b[90mBangBang → BangBangDataFramesExt\u001b[39m\n",
            "   6275.3 ms\u001b[32m  ✓ \u001b[39m\u001b[90mTransducers\u001b[39m\n",
            "   1909.6 ms\u001b[32m  ✓ \u001b[39m\u001b[90mTransducers → TransducersAdaptExt\u001b[39m\n",
            "   4710.7 ms\u001b[32m  ✓ \u001b[39m\u001b[90mTransducers → TransducersDataFramesExt\u001b[39m\n",
            "   8537.8 ms\u001b[32m  ✓ \u001b[39m\u001b[90mFLoops\u001b[39m\n",
            "  12086.2 ms\u001b[32m  ✓ \u001b[39m\u001b[90mMLUtils\u001b[39m\n",
            "   3047.6 ms\u001b[32m  ✓ \u001b[39m\u001b[90mMLDataDevices → MLDataDevicesMLUtilsExt\u001b[39m\n",
            "   3636.6 ms\u001b[32m  ✓ \u001b[39mLux → LuxMLUtilsExt\n",
            " 105282.3 ms\u001b[32m  ✓ \u001b[39m\u001b[90mZygote\u001b[39m\n",
            "   2581.8 ms\u001b[32m  ✓ \u001b[39m\u001b[90mMLDataDevices → MLDataDevicesZygoteExt\u001b[39m\n",
            "   3113.0 ms\u001b[32m  ✓ \u001b[39m\u001b[90mZygote → ZygoteColorsExt\u001b[39m\n",
            "   6069.4 ms\u001b[32m  ✓ \u001b[39mLux → LuxZygoteExt\n",
            "  10882.5 ms\u001b[32m  ✓ \u001b[39mFlux\n",
            "   1086.8 ms\u001b[32m  ✓ \u001b[39mFlux → FluxCUDAExt\n",
            "   5951.8 ms\u001b[32m  ✓ \u001b[39mLux → LuxFluxExt\n",
            "  24609.7 ms\u001b[32m  ✓ \u001b[39mFlux → FluxEnzymeExt\n",
            "  55 dependencies successfully precompiled in 193 seconds. 458 already precompiled.\n"
          ]
        }
      ],
      "source": [
        "import Pkg\n",
        "Pkg.add(\"Flux\")\n",
        "using Flux\n",
        "using DataFrames\n",
        "using CSV\n",
        "using Statistics\n",
        "using Random"
      ]
    },
    {
      "cell_type": "code",
      "source": [
        "using Pkg\n",
        "Pkg.update()\n",
        "Pkg.add([\"Flux\", \"DataFrames\", \"CSV\", \"Statistics\"])"
      ],
      "metadata": {
        "colab": {
          "base_uri": "https://localhost:8080/"
        },
        "id": "dlIOm5xEwYfN",
        "outputId": "ca949861-69a1-4fea-ffef-f2cb35e2bab9"
      },
      "execution_count": 12,
      "outputs": [
        {
          "output_type": "stream",
          "name": "stderr",
          "text": [
            "\u001b[32m\u001b[1m    Updating\u001b[22m\u001b[39m registry at `~/.julia/registries/General.toml`\n",
            "\u001b[32m\u001b[1m   Installed\u001b[22m\u001b[39m Enzyme_jll ─ v0.0.185+0\n",
            "\u001b[32m\u001b[1m   Installed\u001b[22m\u001b[39m LuxLib ───── v1.10.0\n",
            "\u001b[32m\u001b[1m   Installed\u001b[22m\u001b[39m Enzyme ───── v0.13.59\n",
            "\u001b[32m\u001b[1m   Installed\u001b[22m\u001b[39m Lux ──────── v1.16.0\n",
            "\u001b[32m\u001b[1m    Updating\u001b[22m\u001b[39m `~/.julia/environments/v1.10/Project.toml`\n",
            "  \u001b[90m[b2108857] \u001b[39m\u001b[93m↑ Lux v1.15.0 ⇒ v1.16.0\u001b[39m\n",
            "\u001b[32m\u001b[1m    Updating\u001b[22m\u001b[39m `~/.julia/environments/v1.10/Manifest.toml`\n",
            "  \u001b[90m[7da242da] \u001b[39m\u001b[93m↑ Enzyme v0.13.57 ⇒ v0.13.59\u001b[39m\n",
            "  \u001b[90m[b2108857] \u001b[39m\u001b[93m↑ Lux v1.15.0 ⇒ v1.16.0\u001b[39m\n",
            "  \u001b[90m[82251201] \u001b[39m\u001b[93m↑ LuxLib v1.9.0 ⇒ v1.10.0\u001b[39m\n",
            "  \u001b[90m[7cc45869] \u001b[39m\u001b[93m↑ Enzyme_jll v0.0.184+0 ⇒ v0.0.185+0\u001b[39m\n",
            "\u001b[32m\u001b[1mPrecompiling\u001b[22m\u001b[39m packages...\n",
            "   1657.6 ms\u001b[32m  ✓ \u001b[39m\u001b[90mEnzyme_jll\u001b[39m\n",
            "   7920.7 ms\u001b[32m  ✓ \u001b[39m\u001b[90mLuxLib\u001b[39m\n",
            "  17885.4 ms\u001b[32m  ✓ \u001b[39mLux\n",
            "   5688.2 ms\u001b[32m  ✓ \u001b[39mLux → LuxMLUtilsExt\n",
            "   7261.4 ms\u001b[32m  ✓ \u001b[39mLux → LuxZygoteExt\n",
            "   6520.8 ms\u001b[32m  ✓ \u001b[39mLux → LuxFluxExt\n",
            " 140992.4 ms\u001b[32m  ✓ \u001b[39m\u001b[90mEnzyme\u001b[39m\n",
            "   4002.0 ms\u001b[32m  ✓ \u001b[39m\u001b[90mEnzyme → EnzymeChainRulesCoreExt\u001b[39m\n",
            "   4194.4 ms\u001b[32m  ✓ \u001b[39m\u001b[90mEnzyme → EnzymeLogExpFunctionsExt\u001b[39m\n",
            "   4683.2 ms\u001b[32m  ✓ \u001b[39m\u001b[90mEnzyme → EnzymeBFloat16sExt\u001b[39m\n",
            "   4709.0 ms\u001b[32m  ✓ \u001b[39m\u001b[90mEnzyme → EnzymeGPUArraysCoreExt\u001b[39m\n",
            "   4287.9 ms\u001b[32m  ✓ \u001b[39m\u001b[90mQuadGK → QuadGKEnzymeExt\u001b[39m\n",
            "   4648.6 ms\u001b[32m  ✓ \u001b[39m\u001b[90mEnzyme → EnzymeSpecialFunctionsExt\u001b[39m\n",
            "  36656.2 ms\u001b[32m  ✓ \u001b[39m\u001b[90mEnzyme → EnzymeStaticArraysExt\u001b[39m\n",
            "   3683.3 ms\u001b[32m  ✓ \u001b[39m\u001b[90mLuxLib → LuxLibEnzymeExt\u001b[39m\n",
            "   8196.3 ms\u001b[32m  ✓ \u001b[39mLux → LuxEnzymeExt\n",
            "  39046.3 ms\u001b[32m  ✓ \u001b[39mFlux → FluxEnzymeExt\n",
            " 133157.9 ms\u001b[32m  ✓ \u001b[39mReactant\n",
            "   7449.1 ms\u001b[32m  ✓ \u001b[39mReactant → ReactantStatisticsExt\n",
            "   9058.8 ms\u001b[32m  ✓ \u001b[39mReactant → ReactantRandom123Ext\n",
            "  10440.1 ms\u001b[32m  ✓ \u001b[39mReactant → ReactantKernelAbstractionsExt\n",
            "   9918.5 ms\u001b[32m  ✓ \u001b[39mReactant → ReactantSpecialFunctionsExt\n",
            "   9425.1 ms\u001b[32m  ✓ \u001b[39mReactant → ReactantAbstractFFTsExt\n",
            "   9112.5 ms\u001b[32m  ✓ \u001b[39mReactant → ReactantArrayInterfaceExt\n",
            "   9446.6 ms\u001b[32m  ✓ \u001b[39m\u001b[90mLuxCore → LuxCoreReactantExt\u001b[39m\n",
            "  10063.1 ms\u001b[32m  ✓ \u001b[39m\u001b[90mMLDataDevices → MLDataDevicesReactantExt\u001b[39m\n",
            "  16418.9 ms\u001b[32m  ✓ \u001b[39m\u001b[90mOptimisers → OptimisersReactantExt\u001b[39m\n",
            "   9747.2 ms\u001b[32m  ✓ \u001b[39m\u001b[90mWeightInitializers → WeightInitializersReactantExt\u001b[39m\n",
            "  46844.2 ms\u001b[32m  ✓ \u001b[39mReactant → ReactantOffsetArraysExt\n",
            "  51499.6 ms\u001b[32m  ✓ \u001b[39mReactant → ReactantNNlibExt\n",
            "  12558.3 ms\u001b[32m  ✓ \u001b[39m\u001b[90mLuxLib → LuxLibReactantExt\u001b[39m\n",
            "  18177.9 ms\u001b[32m  ✓ \u001b[39mLux → LuxReactantExt\n",
            "  45255.8 ms\u001b[32m  ✓ \u001b[39mReactant → ReactantOneHotArraysExt\n",
            " 273775.0 ms\u001b[32m  ✓ \u001b[39mReactant → ReactantCUDAExt\n",
            "  34 dependencies successfully precompiled in 618 seconds. 479 already precompiled.\n",
            "\u001b[36m\u001b[1m        Info\u001b[22m\u001b[39m We haven't cleaned this depot up for a bit, running Pkg.gc()...\n",
            "\u001b[32m\u001b[1m      Active\u001b[22m\u001b[39m manifest files: 1 found\n",
            "\u001b[32m\u001b[1m      Active\u001b[22m\u001b[39m artifact files: 106 found\n",
            "\u001b[32m\u001b[1m      Active\u001b[22m\u001b[39m scratchspaces: 4 found\n",
            "\u001b[32m\u001b[1m     Deleted\u001b[22m\u001b[39m no artifacts, repos, packages or scratchspaces\n",
            "\u001b[32m\u001b[1m   Resolving\u001b[22m\u001b[39m package versions...\n",
            "\u001b[32m\u001b[1m    Updating\u001b[22m\u001b[39m `~/.julia/environments/v1.10/Project.toml`\n",
            "  \u001b[90m[10745b16] \u001b[39m\u001b[92m+ Statistics v1.10.0\u001b[39m\n",
            "\u001b[32m\u001b[1m  No Changes\u001b[22m\u001b[39m to `~/.julia/environments/v1.10/Manifest.toml`\n"
          ]
        }
      ]
    },
    {
      "cell_type": "code",
      "source": [
        "using Flux\n",
        "using DataFrames\n",
        "using CSV\n",
        "using Statistics\n",
        "using Random\n",
        "\n",
        "# Set random seed for reproducibility\n",
        "Random.seed!(123)"
      ],
      "metadata": {
        "colab": {
          "base_uri": "https://localhost:8080/"
        },
        "id": "LGEtMoQKzaSM",
        "outputId": "1cdd7520-0bac-425f-d9ed-e2bf65b4096b"
      },
      "execution_count": 19,
      "outputs": [
        {
          "output_type": "execute_result",
          "data": {
            "text/plain": [
              "TaskLocalRNG()"
            ]
          },
          "metadata": {},
          "execution_count": 19
        }
      ]
    },
    {
      "cell_type": "code",
      "source": [
        "# Load the dataset\n",
        "df = CSV.read(\"card fraud.csv\", DataFrame)\n",
        "\n",
        "# Verify dataset size\n",
        "println(\"Dataset has $(nrow(df)) rows, columns: $(names(df))\")\n",
        "\n",
        "# Select a few numerical features and the target\n",
        "features = [:AMT_INCOME_TOTAL, :AMT_CREDIT, :AMT_ANNUITY, :DAYS_BIRTH]\n",
        "data = select(df, vcat(:TARGET, features))\n",
        "\n",
        "# Replace missing values with column means for features\n",
        "for col in features\n",
        "    if any(ismissing, data[!, col])\n",
        "        mean_val = mean(skipmissing(data[!, col]))\n",
        "        data[!, col] = coalesce.(data[!, col], mean_val)\n",
        "    end\n",
        "end\n",
        "\n",
        "# Handle TARGET column: ensure no missing values and convert to Float32\n",
        "if any(ismissing, data[!, :TARGET])\n",
        "    error(\"TARGET column contains missing values. Please handle them (e.g., remove rows or impute).\")\n",
        "end\n",
        "if !(eltype(data[!, :TARGET]) <: Real)\n",
        "    error(\"TARGET column must contain numeric values (0 or 1). Found type: $(eltype(data[!, :TARGET]))\")\n",
        "end\n",
        "y = Float32.(data[!, :TARGET])  # Ensure y is a Float32 vector with 518 elements\n",
        "X = Matrix{Float32}(data[!, features])  # Feature matrix\n",
        "\n",
        "# Normalize features to [0, 1]\n",
        "for i in 1:size(X, 2)\n",
        "    min_val = minimum(X[:, i])\n",
        "    max_val = maximum(X[:, i])\n",
        "    if max_val != min_val\n",
        "        X[:, i] = (X[:, i] .- min_val) / (max_val - min_val)\n",
        "    else\n",
        "        X[:, i] .= 0.0f0\n",
        "    end\n",
        "end\n",
        "\n",
        "# Debug: Print sizes to verify\n",
        "println(\"X size: $(size(X))\")  # Should be (518, 4)\n",
        "println(\"y size: $(length(y))\")  # Should be 518"
      ],
      "metadata": {
        "colab": {
          "base_uri": "https://localhost:8080/"
        },
        "id": "2pbGXM8v5C61",
        "outputId": "405b4b2c-f841-4cc8-dddc-2f0f7fb2f937"
      },
      "execution_count": 20,
      "outputs": [
        {
          "output_type": "stream",
          "name": "stdout",
          "text": [
            "Dataset has 518 rows, columns: [\"SK_ID_CURR\", \"TARGET\", \"NAME_CONTRACT_TYPE\", \"CODE_GENDER\", \"FLAG_OWN_CAR\", \"FLAG_OWN_REALTY\", \"CNT_CHILDREN\", \"AMT_INCOME_TOTAL\", \"AMT_CREDIT\", \"AMT_ANNUITY\", \"AMT_GOODS_PRICE\", \"NAME_TYPE_SUITE\", \"NAME_INCOME_TYPE\", \"NAME_EDUCATION_TYPE\", \"NAME_FAMILY_STATUS\", \"NAME_HOUSING_TYPE\", \"REGION_POPULATION_RELATIVE\", \"DAYS_BIRTH\", \"DAYS_EMPLOYED\", \"DAYS_REGISTRATION\", \"DAYS_ID_PUBLISH\", \"OWN_CAR_AGE\", \"FLAG_MOBIL\", \"FLAG_EMP_PHONE\", \"FLAG_WORK_PHONE\", \"FLAG_CONT_MOBILE\", \"FLAG_PHONE\", \"FLAG_EMAIL\", \"OCCUPATION_TYPE\", \"CNT_FAM_MEMBERS\", \"REGION_RATING_CLIENT\", \"REGION_RATING_CLIENT_W_CITY\", \"WEEKDAY_APPR_PROCESS_START\", \"HOUR_APPR_PROCESS_START\", \"REG_REGION_NOT_LIVE_REGION\", \"REG_REGION_NOT_WORK_REGION\", \"LIVE_REGION_NOT_WORK_REGION\", \"REG_CITY_NOT_LIVE_CITY\", \"REG_CITY_NOT_WORK_CITY\", \"LIVE_CITY_NOT_WORK_CITY\", \"ORGANIZATION_TYPE\", \"EXT_SOURCE_1\", \"EXT_SOURCE_2\", \"EXT_SOURCE_3\", \"APARTMENTS_AVG\", \"BASEMENTAREA_AVG\", \"YEARS_BEGINEXPLUATATION_AVG\", \"YEARS_BUILD_AVG\", \"COMMONAREA_AVG\", \"ELEVATORS_AVG\", \"ENTRANCES_AVG\", \"FLOORSMAX_AVG\", \"FLOORSMIN_AVG\", \"LANDAREA_AVG\", \"LIVINGAPARTMENTS_AVG\", \"LIVINGAREA_AVG\", \"NONLIVINGAPARTMENTS_AVG\", \"NONLIVINGAREA_AVG\", \"APARTMENTS_MODE\", \"BASEMENTAREA_MODE\", \"YEARS_BEGINEXPLUATATION_MODE\", \"YEARS_BUILD_MODE\", \"COMMONAREA_MODE\", \"ELEVATORS_MODE\", \"ENTRANCES_MODE\", \"FLOORSMAX_MODE\", \"FLOORSMIN_MODE\", \"LANDAREA_MODE\", \"LIVINGAPARTMENTS_MODE\", \"LIVINGAREA_MODE\", \"NONLIVINGAPARTMENTS_MODE\", \"NONLIVINGAREA_MODE\", \"APARTMENTS_MEDI\", \"BASEMENTAREA_MEDI\", \"YEARS_BEGINEXPLUATATION_MEDI\", \"YEARS_BUILD_MEDI\", \"COMMONAREA_MEDI\", \"ELEVATORS_MEDI\", \"ENTRANCES_MEDI\", \"FLOORSMAX_MEDI\", \"FLOORSMIN_MEDI\", \"LANDAREA_MEDI\", \"LIVINGAPARTMENTS_MEDI\", \"LIVINGAREA_MEDI\", \"NONLIVINGAPARTMENTS_MEDI\", \"NONLIVINGAREA_MEDI\", \"FONDKAPREMONT_MODE\", \"HOUSETYPE_MODE\", \"TOTALAREA_MODE\", \"WALLSMATERIAL_MODE\", \"EMERGENCYSTATE_MODE\", \"OBS_30_CNT_SOCIAL_CIRCLE\", \"DEF_30_CNT_SOCIAL_CIRCLE\", \"OBS_60_CNT_SOCIAL_CIRCLE\", \"DEF_60_CNT_SOCIAL_CIRCLE\", \"DAYS_LAST_PHONE_CHANGE\", \"FLAG_DOCUMENT_2\", \"FLAG_DOCUMENT_3\", \"FLAG_DOCUMENT_4\", \"FLAG_DOCUMENT_5\", \"FLAG_DOCUMENT_6\", \"FLAG_DOCUMENT_7\", \"FLAG_DOCUMENT_8\", \"FLAG_DOCUMENT_9\", \"FLAG_DOCUMENT_10\", \"FLAG_DOCUMENT_11\", \"FLAG_DOCUMENT_12\", \"FLAG_DOCUMENT_13\", \"FLAG_DOCUMENT_14\", \"FLAG_DOCUMENT_15\", \"FLAG_DOCUMENT_16\", \"FLAG_DOCUMENT_17\", \"FLAG_DOCUMENT_18\", \"FLAG_DOCUMENT_19\", \"FLAG_DOCUMENT_20\", \"FLAG_DOCUMENT_21\", \"AMT_REQ_CREDIT_BUREAU_HOUR\", \"AMT_REQ_CREDIT_BUREAU_DAY\", \"AMT_REQ_CREDIT_BUREAU_WEEK\", \"AMT_REQ_CREDIT_BUREAU_MON\", \"AMT_REQ_CREDIT_BUREAU_QRT\", \"AMT_REQ_CREDIT_BUREAU_YEAR\"]\n",
            "X size: (518, 4)\n",
            "y size: 518\n"
          ]
        }
      ]
    },
    {
      "cell_type": "code",
      "source": [
        "# Check dataset size\n",
        "num_rows = size(X, 1)\n",
        "println(\"Dataset has $num_rows rows\")\n",
        "\n",
        "# Create sequences (10 rows per sequence) only if dataset is large enough\n",
        "sequence_length = 10\n",
        "num_features = length(features)\n",
        "sequences = []\n",
        "labels = []\n",
        "\n",
        "if num_rows < sequence_length\n",
        "    error(\"Dataset too small: need at least $sequence_length rows, but got $num_rows\")\n",
        "else\n",
        "    for i in 1:(num_rows - sequence_length + 1)\n",
        "        push!(sequences, X[i:(i+sequence_length-1), :])\n",
        "        push!(labels, y[i+sequence_length-1])\n",
        "    end\n",
        "end\n",
        "\n",
        "# Convert to 3D array: (num_features, sequence_length, num_sequences)\n",
        "X_seq = cat(sequences..., dims=3)  # Initially (sequence_length, num_features, num_sequences)\n",
        "X_seq = permutedims(X_seq, (2, 1, 3))  # Reshape to (num_features, sequence_length, num_sequences)\n",
        "y_seq = Float32.(labels)\n",
        "\n",
        "# Verify sequence creation\n",
        "println(\"Created $(length(sequences)) sequences\")"
      ],
      "metadata": {
        "colab": {
          "base_uri": "https://localhost:8080/"
        },
        "id": "JgjqaoTp5KIn",
        "outputId": "f7df2a32-f2b2-4d37-c6a6-055fa9c27f47"
      },
      "execution_count": 21,
      "outputs": [
        {
          "output_type": "stream",
          "name": "stdout",
          "text": [
            "Dataset has 518 rows\n",
            "Created 509 sequences\n"
          ]
        }
      ]
    },
    {
      "cell_type": "code",
      "source": [
        "# Split into training and testing sets\n",
        "train_size = Int(floor(length(labels) * 0.8))\n",
        "X_train = X_seq[:, :, 1:train_size]\n",
        "y_train = y_seq[1:train_size]\n",
        "X_test = X_seq[:, :, (train_size+1):end]\n",
        "y_test = y_seq[(train_size+1):end]"
      ],
      "metadata": {
        "colab": {
          "base_uri": "https://localhost:8080/"
        },
        "id": "veQITXvF5x82",
        "outputId": "0dc3aa27-5d04-4419-9ff9-928766a378d5"
      },
      "execution_count": 22,
      "outputs": [
        {
          "output_type": "execute_result",
          "data": {
            "text/plain": [
              "102-element Vector{Float32}:\n",
              " 0.0\n",
              " 0.0\n",
              " 0.0\n",
              " 1.0\n",
              " 0.0\n",
              " 0.0\n",
              " 0.0\n",
              " 0.0\n",
              " 1.0\n",
              " 0.0\n",
              " 0.0\n",
              " 0.0\n",
              " 0.0\n",
              " ⋮\n",
              " 0.0\n",
              " 0.0\n",
              " 0.0\n",
              " 0.0\n",
              " 0.0\n",
              " 0.0\n",
              " 0.0\n",
              " 0.0\n",
              " 0.0\n",
              " 0.0\n",
              " 0.0\n",
              " 0.0"
            ]
          },
          "metadata": {},
          "execution_count": 22
        }
      ]
    },
    {
      "cell_type": "code",
      "source": [
        "# Define simple LSTM model\n",
        "model = Chain(\n",
        "    LSTM(num_features => 32),  # LSTM with 4 input features, 32 hidden units\n",
        "    Dense(32 => 1, sigmoid)    # Output for binary classification\n",
        ")"
      ],
      "metadata": {
        "colab": {
          "base_uri": "https://localhost:8080/"
        },
        "id": "dQEDRsHi6C7a",
        "outputId": "2b3b901d-f4c5-4dbc-cb09-7ba5472f28cf"
      },
      "execution_count": 23,
      "outputs": [
        {
          "output_type": "execute_result",
          "data": {
            "text/plain": [
              "Chain(\n",
              "  LSTM(4 => 32),                        \u001b[90m# 4_736 parameters\u001b[39m\n",
              "  Dense(32 => 1, σ),                    \u001b[90m# 33 parameters\u001b[39m\n",
              ") \u001b[90m                  # Total: 5 arrays, \u001b[39m4_769 parameters, 18.965 KiB."
            ]
          },
          "metadata": {},
          "execution_count": 23
        }
      ]
    },
    {
      "cell_type": "code",
      "source": [
        "# Loss function\n",
        "loss(x, y) = Flux.binarycrossentropy(model(x), y)\n",
        "\n",
        "# Optimizer\n",
        "opt = Flux.setup(ADAM(0.01), model)"
      ],
      "metadata": {
        "colab": {
          "base_uri": "https://localhost:8080/"
        },
        "id": "lBD41vwi6Dmm",
        "outputId": "5d2332f6-c958-40db-b558-243402110fd0"
      },
      "execution_count": 24,
      "outputs": [
        {
          "output_type": "execute_result",
          "data": {
            "text/plain": [
              "(layers = ((cell = (Wi = \u001b[32mLeaf(Adam(eta=0.01, beta=(0.9, 0.999), epsilon=1.0e-8), \u001b[39m(Float32[0.0 0.0 0.0 0.0; 0.0 0.0 0.0 0.0; … ; 0.0 0.0 0.0 0.0; 0.0 0.0 0.0 0.0], Float32[0.0 0.0 0.0 0.0; 0.0 0.0 0.0 0.0; … ; 0.0 0.0 0.0 0.0; 0.0 0.0 0.0 0.0], (0.9, 0.999))\u001b[32m)\u001b[39m, Wh = \u001b[32mLeaf(Adam(eta=0.01, beta=(0.9, 0.999), epsilon=1.0e-8), \u001b[39m(Float32[0.0 0.0 … 0.0 0.0; 0.0 0.0 … 0.0 0.0; … ; 0.0 0.0 … 0.0 0.0; 0.0 0.0 … 0.0 0.0], Float32[0.0 0.0 … 0.0 0.0; 0.0 0.0 … 0.0 0.0; … ; 0.0 0.0 … 0.0 0.0; 0.0 0.0 … 0.0 0.0], (0.9, 0.999))\u001b[32m)\u001b[39m, bias = \u001b[32mLeaf(Adam(eta=0.01, beta=(0.9, 0.999), epsilon=1.0e-8), \u001b[39m(Float32[0.0, 0.0, 0.0, 0.0, 0.0, 0.0, 0.0, 0.0, 0.0, 0.0  …  0.0, 0.0, 0.0, 0.0, 0.0, 0.0, 0.0, 0.0, 0.0, 0.0], Float32[0.0, 0.0, 0.0, 0.0, 0.0, 0.0, 0.0, 0.0, 0.0, 0.0  …  0.0, 0.0, 0.0, 0.0, 0.0, 0.0, 0.0, 0.0, 0.0, 0.0], (0.9, 0.999))\u001b[32m)\u001b[39m),), (weight = \u001b[32mLeaf(Adam(eta=0.01, beta=(0.9, 0.999), epsilon=1.0e-8), \u001b[39m(Float32[0.0 0.0 … 0.0 0.0], Float32[0.0 0.0 … 0.0 0.0], (0.9, 0.999))\u001b[32m)\u001b[39m, bias = \u001b[32mLeaf(Adam(eta=0.01, beta=(0.9, 0.999), epsilon=1.0e-8), \u001b[39m(Float32[0.0], Float32[0.0], (0.9, 0.999))\u001b[32m)\u001b[39m, σ = ())),)"
            ]
          },
          "metadata": {},
          "execution_count": 24
        }
      ]
    },
    {
      "cell_type": "code",
      "source": [
        "# Training loop\n",
        "for epoch in 1:20\n",
        "    println(\"Epoch $epoch\")\n",
        "    Flux.reset!(model)  # Reset LSTM state\n",
        "    for i in 1:size(X_train, 3)\n",
        "        x = X_train[:, :, i:i]  # Shape: (num_features, sequence_length, 1) = (4, 10, 1)\n",
        "        y = y_train[i:i]  # Shape: (1,)\n",
        "        loss_val, grads = Flux.withgradient(model) do m\n",
        "            # CHANGED: Select last time step's output to match y's shape\n",
        "            ŷ = m(x)[:, end, :]  # Shape: (1, 1) -> reshape to (1,)\n",
        "            Flux.binarycrossentropy(vec(ŷ), y)\n",
        "        end\n",
        "        Flux.update!(opt, model, grads[1])\n",
        "    end\n",
        "end"
      ],
      "metadata": {
        "colab": {
          "base_uri": "https://localhost:8080/"
        },
        "id": "YHWPDJW86JWh",
        "outputId": "6da459d6-751d-457b-bcdc-b0876c13f38e"
      },
      "execution_count": 28,
      "outputs": [
        {
          "output_type": "stream",
          "name": "stdout",
          "text": [
            "Epoch 1\n",
            "Epoch 2\n",
            "Epoch 3\n",
            "Epoch 4\n",
            "Epoch 5\n",
            "Epoch 6\n",
            "Epoch 7\n",
            "Epoch 8\n",
            "Epoch 9\n",
            "Epoch 10\n",
            "Epoch 11\n",
            "Epoch 12\n",
            "Epoch 13\n",
            "Epoch 14\n",
            "Epoch 15\n",
            "Epoch 16\n",
            "Epoch 17\n",
            "Epoch 18\n",
            "Epoch 19\n",
            "Epoch 20\n"
          ]
        }
      ]
    },
    {
      "cell_type": "code",
      "source": [
        "# Evaluate model\n",
        "Flux.reset!(model)\n",
        "# CHANGED: Select last time step's output for predictions\n",
        "test_pred = model(X_test)[:, end, :][:] .> 0.5  # Shape: (1, num_test_sequences) -> (num_test_sequences,)\n",
        "accuracy = mean(test_pred .== y_test)\n",
        "println(\"Test accuracy: $accuracy\")"
      ],
      "metadata": {
        "colab": {
          "base_uri": "https://localhost:8080/"
        },
        "id": "5Fs_zIb96NM6",
        "outputId": "f852ee9f-5729-4bd1-f819-f917f6213b11"
      },
      "execution_count": 31,
      "outputs": [
        {
          "output_type": "stream",
          "name": "stdout",
          "text": [
            "Test accuracy: 0.9411764705882353\n"
          ]
        }
      ]
    },
    {
      "cell_type": "code",
      "source": [],
      "metadata": {
        "id": "macWz71j8Rc8"
      },
      "execution_count": null,
      "outputs": []
    }
  ],
  "metadata": {
    "accelerator": "GPU",
    "colab": {
      "gpuType": "T4",
      "provenance": []
    },
    "kernelspec": {
      "display_name": "Julia",
      "name": "julia"
    },
    "language_info": {
      "name": "julia"
    }
  },
  "nbformat": 4,
  "nbformat_minor": 0
}